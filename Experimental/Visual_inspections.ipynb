{
 "cells": [
  {
   "cell_type": "markdown",
   "id": "5013125f",
   "metadata": {},
   "source": [
    "# Understanding the Given Data\n"
   ]
  },
  {
   "cell_type": "code",
   "execution_count": 1,
   "id": "79036fda",
   "metadata": {},
   "outputs": [],
   "source": [
    "import pandas as pd\n",
    "import numpy as np\n",
    "import json\n"
   ]
  },
  {
   "cell_type": "code",
   "execution_count": 2,
   "id": "4c827890",
   "metadata": {},
   "outputs": [
    {
     "data": {
      "application/vnd.microsoft.datawrangler.viewer.v0+json": {
       "columns": [
        {
         "name": "index",
         "rawType": "int64",
         "type": "integer"
        },
        {
         "name": "TIME",
         "rawType": "object",
         "type": "string"
        },
        {
         "name": "FRAMEID",
         "rawType": "int64",
         "type": "integer"
        },
        {
         "name": "PID",
         "rawType": "int64",
         "type": "integer"
        },
        {
         "name": "POSES",
         "rawType": "object",
         "type": "string"
        },
        {
         "name": "SCORES",
         "rawType": "object",
         "type": "string"
        }
       ],
       "ref": "06c745c2-6f30-4773-895b-36b2d8906b71",
       "rows": [
        [
         "0",
         "2023-02-23 10:31:19.244127",
         "1",
         "0",
         "[334, 90, 334, 95, 321, 95, 318, 111, 320, 126, 346, 94, 350, 111, 350, 126, 325, 124, 328, 144, 329, 158, 343, 124, 342, 144, 342, 159, 334, 110, 0, 0, 0, 0, 334, 110]",
         "[0.7808822393417358, 0.8417455554008484, 0.8200969099998474, 0.7103822231292725, 0.6494789123535156, 0.8609786033630371, 0.7412479519844055, 0.6694971323013306, 0.8016493320465088, 0.9244872331619263, 0.7565020322799683, 0.8029985427856445, 0.7801899909973145, 0.7628558874130249, 0.8371243476867676, 0.7318185957838031, 0.34039345058066417, 0.8371243476867676]"
        ],
        [
         "1",
         "2023-02-23 10:31:19.309154",
         "2",
         "0",
         "[334, 90, 333, 94, 321, 94, 317, 111, 321, 126, 346, 94, 350, 111, 350, 126, 325, 124, 328, 144, 328, 158, 343, 124, 342, 144, 342, 159, 334, 109, 0, 0, 0, 0, 334, 109]",
         "[0.7829259037971497, 0.8493701219558716, 0.823256254196167, 0.7312148809432983, 0.6315193176269531, 0.869153618812561, 0.7536683082580566, 0.6786743402481079, 0.8056368827819824, 0.9281315803527832, 0.7382216453552246, 0.8066258430480957, 0.7764429450035095, 0.7484363317489624, 0.8408591151237488, 0.7308990878843953, 0.9324015140470696, 0.8408591151237488]"
        ],
        [
         "2",
         "2023-02-23 10:31:19.369036",
         "3",
         "0",
         "[334, 90, 333, 95, 321, 95, 318, 112, 321, 126, 346, 94, 350, 111, 350, 126, 325, 124, 328, 144, 329, 158, 343, 124, 342, 144, 342, 159, 334, 109, 0, 0, 0, 0, 334, 109]",
         "[0.7636637091636658, 0.8489276170730591, 0.8169413805007935, 0.724573016166687, 0.6793797016143799, 0.8692002296447754, 0.7488632202148438, 0.6724852323532104, 0.8162940144538879, 0.8443645238876343, 0.7583279609680176, 0.8051369190216064, 0.7756067514419556, 0.7530829906463623, 0.927008867263794, 0.4559876943160609, 0.7051641798093807, 0.927008867263794]"
        ]
       ],
       "shape": {
        "columns": 5,
        "rows": 3
       }
      },
      "text/html": [
       "<div>\n",
       "<style scoped>\n",
       "    .dataframe tbody tr th:only-of-type {\n",
       "        vertical-align: middle;\n",
       "    }\n",
       "\n",
       "    .dataframe tbody tr th {\n",
       "        vertical-align: top;\n",
       "    }\n",
       "\n",
       "    .dataframe thead th {\n",
       "        text-align: right;\n",
       "    }\n",
       "</style>\n",
       "<table border=\"1\" class=\"dataframe\">\n",
       "  <thead>\n",
       "    <tr style=\"text-align: right;\">\n",
       "      <th></th>\n",
       "      <th>TIME</th>\n",
       "      <th>FRAMEID</th>\n",
       "      <th>PID</th>\n",
       "      <th>POSES</th>\n",
       "      <th>SCORES</th>\n",
       "    </tr>\n",
       "  </thead>\n",
       "  <tbody>\n",
       "    <tr>\n",
       "      <th>0</th>\n",
       "      <td>2023-02-23 10:31:19.244127</td>\n",
       "      <td>1</td>\n",
       "      <td>0</td>\n",
       "      <td>[334, 90, 334, 95, 321, 95, 318, 111, 320, 126...</td>\n",
       "      <td>[0.7808822393417358, 0.8417455554008484, 0.820...</td>\n",
       "    </tr>\n",
       "    <tr>\n",
       "      <th>1</th>\n",
       "      <td>2023-02-23 10:31:19.309154</td>\n",
       "      <td>2</td>\n",
       "      <td>0</td>\n",
       "      <td>[334, 90, 333, 94, 321, 94, 317, 111, 321, 126...</td>\n",
       "      <td>[0.7829259037971497, 0.8493701219558716, 0.823...</td>\n",
       "    </tr>\n",
       "    <tr>\n",
       "      <th>2</th>\n",
       "      <td>2023-02-23 10:31:19.369036</td>\n",
       "      <td>3</td>\n",
       "      <td>0</td>\n",
       "      <td>[334, 90, 333, 95, 321, 95, 318, 112, 321, 126...</td>\n",
       "      <td>[0.7636637091636658, 0.8489276170730591, 0.816...</td>\n",
       "    </tr>\n",
       "  </tbody>\n",
       "</table>\n",
       "</div>"
      ],
      "text/plain": [
       "                         TIME  FRAMEID  PID  \\\n",
       "0  2023-02-23 10:31:19.244127        1    0   \n",
       "1  2023-02-23 10:31:19.309154        2    0   \n",
       "2  2023-02-23 10:31:19.369036        3    0   \n",
       "\n",
       "                                               POSES  \\\n",
       "0  [334, 90, 334, 95, 321, 95, 318, 111, 320, 126...   \n",
       "1  [334, 90, 333, 94, 321, 94, 317, 111, 321, 126...   \n",
       "2  [334, 90, 333, 95, 321, 95, 318, 112, 321, 126...   \n",
       "\n",
       "                                              SCORES  \n",
       "0  [0.7808822393417358, 0.8417455554008484, 0.820...  \n",
       "1  [0.7829259037971497, 0.8493701219558716, 0.823...  \n",
       "2  [0.7636637091636658, 0.8489276170730591, 0.816...  "
      ]
     },
     "execution_count": 2,
     "metadata": {},
     "output_type": "execute_result"
    }
   ],
   "source": [
    "# Use the path to one of your CSV files\n",
    "csv_path = r'C:\\Users\\asus\\Desktop\\Ain-Guard Assesment\\csvs_Skeleton_poses_normal_potential_shoplifter\\Normal\\Picking_up_objects\\cam01_5m_picking_up_object_2023_2_16_17_22_17_000.csv'\n",
    "\n",
    "# Read the CSV into a DataFrame\n",
    "df = pd.read_csv(csv_path)\n",
    "\n",
    "# Display the first 3 rows to see the structure\n",
    "df.head(3)\n"
   ]
  },
  {
   "cell_type": "markdown",
   "id": "7284fcda",
   "metadata": {},
   "source": [
    "\n",
    "---\n",
    "\n",
    "**Where are the X and Y coordinates?**\n",
    "\n",
    "The X and Y coordinates are **flattened** within the `POSES` column string.\n",
    "\n",
    "### Data Example\n",
    "\n",
    "Consider the first line of your data:\n",
    "\n",
    "```\n",
    "POSES: \"[525, 92, 532, 102, 527, 98, ...\"\n",
    "```\n",
    "\n",
    "This string represents a single list of numbers that contains the coordinates of all 18 keypoints for one frame arranged sequentially.\n",
    "\n",
    "### Coordinate Layout\n",
    "\n",
    "Each frame consists of 36 numbers (18 pairs of X and Y coordinates) organized as follows:\n",
    "\n",
    "- **Keypoint 0 (Nose):**\n",
    "  - **X coordinate:** 525\n",
    "  - **Y coordinate:** 92\n",
    "- **Keypoint 1 (Neck):**\n",
    "  - **X coordinate:** 532\n",
    "  - **Y coordinate:** 102\n",
    "- **...and so on for the remaining keypoints...**\n",
    "\n",
    "### Keypoint Order\n",
    "\n",
    "The order of these pairs corresponds to the keypoints labeled in the provided skeleton graph image:\n",
    "\n",
    "- **Pair 0 (x0, y0):** Nose\n",
    "- **Pair 1 (x1, y1):** Neck\n",
    "- **Pair 2 (x2, y2):** Right Shoulder  \n",
    "- **... and so on.**\n",
    "\n",
    "### The SCORES Column\n",
    "\n",
    "The `SCORES` column is structured in the same way. It is a flattened list of confidence scores corresponding to each keypoint:\n",
    "\n",
    "- **score0:** Confidence for (x0, y0)\n",
    "- **score1:** Confidence for (x1, y1)\n",
    "- **... and so on.**\n",
    "\n",
    "A score close to 0 indicates that the model was not confident about that keypoint's location, which may result in (x,y) pairs of (0,0).\n",
    "\n"
   ]
  },
  {
   "cell_type": "code",
   "execution_count": 3,
   "id": "d8abe63f",
   "metadata": {},
   "outputs": [
    {
     "name": "stdout",
     "output_type": "stream",
     "text": [
      "The data looks like this:\n",
      "[334, 90, 334, 95, 321, 95, 318, 111, 320, 126, 346, 94, 350, 111, 350, 126, 325, 124, 328, 144, 329, 158, 343, 124, 342, 144, 342, 159, 334, 110, 0, 0, 0, 0, 334, 110]\n",
      "\n",
      "Its type is:\n",
      "<class 'str'>\n"
     ]
    }
   ],
   "source": [
    "# Get the 'POSES' string from the first row (index 0)\n",
    "first_frame_poses_string = df['POSES'][0]\n",
    "\n",
    "print(\"The data looks like this:\")\n",
    "print(first_frame_poses_string)\n",
    "print(\"\\nIts type is:\")\n",
    "print(type(first_frame_poses_string))"
   ]
  },
  {
   "cell_type": "code",
   "execution_count": 4,
   "id": "a58aaff1",
   "metadata": {},
   "outputs": [
    {
     "name": "stdout",
     "output_type": "stream",
     "text": [
      "The data now looks like this:\n",
      "[334, 90, 334, 95, 321, 95, 318, 111, 320, 126, 346, 94, 350, 111, 350, 126, 325, 124, 328, 144, 329, 158, 343, 124, 342, 144, 342, 159, 334, 110, 0, 0, 0, 0, 334, 110]\n",
      "\n",
      "Its type is:\n",
      "<class 'list'>\n",
      "\n",
      "It contains 36 numbers.\n"
     ]
    }
   ],
   "source": [
    "# Use json.loads() to convert the string into a list of numbers\n",
    "poses_list = json.loads(first_frame_poses_string)\n",
    "\n",
    "print(\"The data now looks like this:\")\n",
    "print(poses_list)\n",
    "print(\"\\nIts type is:\")\n",
    "print(type(poses_list))\n",
    "print(f\"\\nIt contains {len(poses_list)} numbers.\")"
   ]
  },
  {
   "cell_type": "code",
   "execution_count": 5,
   "id": "177f6898",
   "metadata": {},
   "outputs": [
    {
     "name": "stdout",
     "output_type": "stream",
     "text": [
      "The final structured data for one frame:\n",
      "[[334  90]\n",
      " [334  95]\n",
      " [321  95]\n",
      " [318 111]\n",
      " [320 126]\n",
      " [346  94]\n",
      " [350 111]\n",
      " [350 126]\n",
      " [325 124]\n",
      " [328 144]\n",
      " [329 158]\n",
      " [343 124]\n",
      " [342 144]\n",
      " [342 159]\n",
      " [334 110]\n",
      " [  0   0]\n",
      " [  0   0]\n",
      " [334 110]]\n",
      "\n",
      "The shape of this array is:\n",
      "(18, 2)\n"
     ]
    }
   ],
   "source": [
    "# Convert the Python list to a NumPy array\n",
    "poses_array = np.array(poses_list)\n",
    "\n",
    "# Reshape the array to have 18 rows and 2 columns (18 keypoints, 2 coords each)\n",
    "structured_poses = poses_array.reshape(18, 2)\n",
    "\n",
    "print(\"The final structured data for one frame:\")\n",
    "print(structured_poses)\n",
    "print(\"\\nThe shape of this array is:\")\n",
    "print(structured_poses.shape)"
   ]
  },
  {
   "cell_type": "code",
   "execution_count": 6,
   "id": "73454dff",
   "metadata": {},
   "outputs": [
    {
     "data": {
      "application/vnd.microsoft.datawrangler.viewer.v0+json": {
       "columns": [
        {
         "name": "index",
         "rawType": "int64",
         "type": "integer"
        },
        {
         "name": "TIME",
         "rawType": "object",
         "type": "string"
        },
        {
         "name": "FRAMEID",
         "rawType": "int64",
         "type": "integer"
        },
        {
         "name": "PID",
         "rawType": "int64",
         "type": "integer"
        },
        {
         "name": "POSES",
         "rawType": "object",
         "type": "string"
        },
        {
         "name": "SCORES",
         "rawType": "object",
         "type": "string"
        },
        {
         "name": "parsed_poses",
         "rawType": "object",
         "type": "unknown"
        }
       ],
       "ref": "d451a8c5-7c08-4ed7-a764-f5fb8096d1ef",
       "rows": [
        [
         "0",
         "2023-02-23 10:31:19.244127",
         "1",
         "0",
         "[334, 90, 334, 95, 321, 95, 318, 111, 320, 126, 346, 94, 350, 111, 350, 126, 325, 124, 328, 144, 329, 158, 343, 124, 342, 144, 342, 159, 334, 110, 0, 0, 0, 0, 334, 110]",
         "[0.7808822393417358, 0.8417455554008484, 0.8200969099998474, 0.7103822231292725, 0.6494789123535156, 0.8609786033630371, 0.7412479519844055, 0.6694971323013306, 0.8016493320465088, 0.9244872331619263, 0.7565020322799683, 0.8029985427856445, 0.7801899909973145, 0.7628558874130249, 0.8371243476867676, 0.7318185957838031, 0.34039345058066417, 0.8371243476867676]",
         "[[334  90]\n [334  95]\n [321  95]\n [318 111]\n [320 126]\n [346  94]\n [350 111]\n [350 126]\n [325 124]\n [328 144]\n [329 158]\n [343 124]\n [342 144]\n [342 159]\n [334 110]\n [  0   0]\n [  0   0]\n [334 110]]"
        ],
        [
         "1",
         "2023-02-23 10:31:19.309154",
         "2",
         "0",
         "[334, 90, 333, 94, 321, 94, 317, 111, 321, 126, 346, 94, 350, 111, 350, 126, 325, 124, 328, 144, 328, 158, 343, 124, 342, 144, 342, 159, 334, 109, 0, 0, 0, 0, 334, 109]",
         "[0.7829259037971497, 0.8493701219558716, 0.823256254196167, 0.7312148809432983, 0.6315193176269531, 0.869153618812561, 0.7536683082580566, 0.6786743402481079, 0.8056368827819824, 0.9281315803527832, 0.7382216453552246, 0.8066258430480957, 0.7764429450035095, 0.7484363317489624, 0.8408591151237488, 0.7308990878843953, 0.9324015140470696, 0.8408591151237488]",
         "[[334  90]\n [333  94]\n [321  94]\n [317 111]\n [321 126]\n [346  94]\n [350 111]\n [350 126]\n [325 124]\n [328 144]\n [328 158]\n [343 124]\n [342 144]\n [342 159]\n [334 109]\n [  0   0]\n [  0   0]\n [334 109]]"
        ],
        [
         "2",
         "2023-02-23 10:31:19.369036",
         "3",
         "0",
         "[334, 90, 333, 95, 321, 95, 318, 112, 321, 126, 346, 94, 350, 111, 350, 126, 325, 124, 328, 144, 329, 158, 343, 124, 342, 144, 342, 159, 334, 109, 0, 0, 0, 0, 334, 109]",
         "[0.7636637091636658, 0.8489276170730591, 0.8169413805007935, 0.724573016166687, 0.6793797016143799, 0.8692002296447754, 0.7488632202148438, 0.6724852323532104, 0.8162940144538879, 0.8443645238876343, 0.7583279609680176, 0.8051369190216064, 0.7756067514419556, 0.7530829906463623, 0.927008867263794, 0.4559876943160609, 0.7051641798093807, 0.927008867263794]",
         "[[334  90]\n [333  95]\n [321  95]\n [318 112]\n [321 126]\n [346  94]\n [350 111]\n [350 126]\n [325 124]\n [328 144]\n [329 158]\n [343 124]\n [342 144]\n [342 159]\n [334 109]\n [  0   0]\n [  0   0]\n [334 109]]"
        ],
        [
         "3",
         "2023-02-23 10:31:19.423059",
         "4",
         "0",
         "[334, 90, 333, 95, 321, 95, 317, 112, 321, 126, 346, 94, 350, 111, 350, 126, 325, 124, 328, 144, 329, 158, 343, 124, 342, 144, 342, 159, 334, 110, 0, 0, 0, 0, 334, 110]",
         "[0.7816575765609741, 0.8491430282592773, 0.8182709217071533, 0.7419268488883972, 0.6715077757835388, 0.8663430213928223, 0.7377190589904785, 0.6425947546958923, 0.8166215419769287, 0.8491141200065613, 0.7510851621627808, 0.7977378368377686, 0.7755513191223145, 0.749943733215332, 0.928358793258667, 0.5895314317300463, 0.5329508949130164, 0.928358793258667]",
         "[[334  90]\n [333  95]\n [321  95]\n [317 112]\n [321 126]\n [346  94]\n [350 111]\n [350 126]\n [325 124]\n [328 144]\n [329 158]\n [343 124]\n [342 144]\n [342 159]\n [334 110]\n [  0   0]\n [  0   0]\n [334 110]]"
        ],
        [
         "4",
         "2023-02-23 10:31:19.476460",
         "5",
         "0",
         "[334, 89, 333, 94, 321, 95, 317, 112, 320, 126, 345, 94, 350, 111, 349, 126, 325, 125, 328, 144, 328, 158, 343, 124, 342, 144, 342, 159, 334, 110, 0, 0, 0, 0, 334, 110]",
         "[0.8119546175003052, 0.8538335561752319, 0.8185953497886658, 0.7568627595901489, 0.6225582361221313, 0.8826516270637512, 0.7512438297271729, 0.6115497946739197, 0.8001048564910889, 0.9316615462303162, 0.7555540800094604, 0.7999699711799622, 0.7687574625015259, 0.7482689619064331, 0.8440165519714355, 0.9235685927312102, 0.42337496648391826, 0.8440165519714355]",
         "[[334  89]\n [333  94]\n [321  95]\n [317 112]\n [320 126]\n [345  94]\n [350 111]\n [349 126]\n [325 125]\n [328 144]\n [328 158]\n [343 124]\n [342 144]\n [342 159]\n [334 110]\n [  0   0]\n [  0   0]\n [334 110]]"
        ]
       ],
       "shape": {
        "columns": 6,
        "rows": 5
       }
      },
      "text/html": [
       "<div>\n",
       "<style scoped>\n",
       "    .dataframe tbody tr th:only-of-type {\n",
       "        vertical-align: middle;\n",
       "    }\n",
       "\n",
       "    .dataframe tbody tr th {\n",
       "        vertical-align: top;\n",
       "    }\n",
       "\n",
       "    .dataframe thead th {\n",
       "        text-align: right;\n",
       "    }\n",
       "</style>\n",
       "<table border=\"1\" class=\"dataframe\">\n",
       "  <thead>\n",
       "    <tr style=\"text-align: right;\">\n",
       "      <th></th>\n",
       "      <th>TIME</th>\n",
       "      <th>FRAMEID</th>\n",
       "      <th>PID</th>\n",
       "      <th>POSES</th>\n",
       "      <th>SCORES</th>\n",
       "      <th>parsed_poses</th>\n",
       "    </tr>\n",
       "  </thead>\n",
       "  <tbody>\n",
       "    <tr>\n",
       "      <th>0</th>\n",
       "      <td>2023-02-23 10:31:19.244127</td>\n",
       "      <td>1</td>\n",
       "      <td>0</td>\n",
       "      <td>[334, 90, 334, 95, 321, 95, 318, 111, 320, 126...</td>\n",
       "      <td>[0.7808822393417358, 0.8417455554008484, 0.820...</td>\n",
       "      <td>[[334, 90], [334, 95], [321, 95], [318, 111], ...</td>\n",
       "    </tr>\n",
       "    <tr>\n",
       "      <th>1</th>\n",
       "      <td>2023-02-23 10:31:19.309154</td>\n",
       "      <td>2</td>\n",
       "      <td>0</td>\n",
       "      <td>[334, 90, 333, 94, 321, 94, 317, 111, 321, 126...</td>\n",
       "      <td>[0.7829259037971497, 0.8493701219558716, 0.823...</td>\n",
       "      <td>[[334, 90], [333, 94], [321, 94], [317, 111], ...</td>\n",
       "    </tr>\n",
       "    <tr>\n",
       "      <th>2</th>\n",
       "      <td>2023-02-23 10:31:19.369036</td>\n",
       "      <td>3</td>\n",
       "      <td>0</td>\n",
       "      <td>[334, 90, 333, 95, 321, 95, 318, 112, 321, 126...</td>\n",
       "      <td>[0.7636637091636658, 0.8489276170730591, 0.816...</td>\n",
       "      <td>[[334, 90], [333, 95], [321, 95], [318, 112], ...</td>\n",
       "    </tr>\n",
       "    <tr>\n",
       "      <th>3</th>\n",
       "      <td>2023-02-23 10:31:19.423059</td>\n",
       "      <td>4</td>\n",
       "      <td>0</td>\n",
       "      <td>[334, 90, 333, 95, 321, 95, 317, 112, 321, 126...</td>\n",
       "      <td>[0.7816575765609741, 0.8491430282592773, 0.818...</td>\n",
       "      <td>[[334, 90], [333, 95], [321, 95], [317, 112], ...</td>\n",
       "    </tr>\n",
       "    <tr>\n",
       "      <th>4</th>\n",
       "      <td>2023-02-23 10:31:19.476460</td>\n",
       "      <td>5</td>\n",
       "      <td>0</td>\n",
       "      <td>[334, 89, 333, 94, 321, 95, 317, 112, 320, 126...</td>\n",
       "      <td>[0.8119546175003052, 0.8538335561752319, 0.818...</td>\n",
       "      <td>[[334, 89], [333, 94], [321, 95], [317, 112], ...</td>\n",
       "    </tr>\n",
       "  </tbody>\n",
       "</table>\n",
       "</div>"
      ],
      "text/plain": [
       "                         TIME  FRAMEID  PID  \\\n",
       "0  2023-02-23 10:31:19.244127        1    0   \n",
       "1  2023-02-23 10:31:19.309154        2    0   \n",
       "2  2023-02-23 10:31:19.369036        3    0   \n",
       "3  2023-02-23 10:31:19.423059        4    0   \n",
       "4  2023-02-23 10:31:19.476460        5    0   \n",
       "\n",
       "                                               POSES  \\\n",
       "0  [334, 90, 334, 95, 321, 95, 318, 111, 320, 126...   \n",
       "1  [334, 90, 333, 94, 321, 94, 317, 111, 321, 126...   \n",
       "2  [334, 90, 333, 95, 321, 95, 318, 112, 321, 126...   \n",
       "3  [334, 90, 333, 95, 321, 95, 317, 112, 321, 126...   \n",
       "4  [334, 89, 333, 94, 321, 95, 317, 112, 320, 126...   \n",
       "\n",
       "                                              SCORES  \\\n",
       "0  [0.7808822393417358, 0.8417455554008484, 0.820...   \n",
       "1  [0.7829259037971497, 0.8493701219558716, 0.823...   \n",
       "2  [0.7636637091636658, 0.8489276170730591, 0.816...   \n",
       "3  [0.7816575765609741, 0.8491430282592773, 0.818...   \n",
       "4  [0.8119546175003052, 0.8538335561752319, 0.818...   \n",
       "\n",
       "                                        parsed_poses  \n",
       "0  [[334, 90], [334, 95], [321, 95], [318, 111], ...  \n",
       "1  [[334, 90], [333, 94], [321, 94], [317, 111], ...  \n",
       "2  [[334, 90], [333, 95], [321, 95], [318, 112], ...  \n",
       "3  [[334, 90], [333, 95], [321, 95], [317, 112], ...  \n",
       "4  [[334, 89], [333, 94], [321, 95], [317, 112], ...  "
      ]
     },
     "execution_count": 6,
     "metadata": {},
     "output_type": "execute_result"
    }
   ],
   "source": [
    "def parse_poses_from_string(poses_str: str) -> np.ndarray:\n",
    "    \"\"\"Takes the raw string from the 'POSES' column and returns a (18, 2) NumPy array.\"\"\"\n",
    "    pose_list = json.loads(poses_str)\n",
    "    return np.array(pose_list).reshape(18, 2)\n",
    "\n",
    "# Apply this function to every row in the 'POSES' column of our DataFrame\n",
    "df['parsed_poses'] = df['POSES'].apply(parse_poses_from_string)\n",
    "\n",
    "# Display the DataFrame again, now with our new structured column\n",
    "df.head()"
   ]
  },
  {
   "cell_type": "markdown",
   "id": "173d1af3",
   "metadata": {},
   "source": [
    "# Displaying a single CSV as an animation"
   ]
  },
  {
   "cell_type": "code",
   "execution_count": 7,
   "id": "0cfd1577",
   "metadata": {},
   "outputs": [],
   "source": [
    "import matplotlib.pyplot as plt\n",
    "from matplotlib.animation import FuncAnimation\n",
    "from IPython.display import HTML # For displaying the animation in the notebook"
   ]
  },
  {
   "cell_type": "code",
   "execution_count": 8,
   "id": "7f0235a1",
   "metadata": {},
   "outputs": [],
   "source": [
    "# The connections define which keypoints to link with a line.\n",
    "# This is based on the keypoint indices from your graph (0 to 17).\n",
    "YOUR_SKELETON_CONNECTIONS = [\n",
    "    [0, 1], [1, 2], [2, 3], [3, 4],    # Right arm\n",
    "    [1, 5], [5, 6], [6, 7],            # Left arm\n",
    "    [1, 14], [14, 8], [14, 11],       # Torso\n",
    "    [8, 9], [9, 10],                   # Right leg\n",
    "    [11, 12], [12, 13]                 # Left leg\n",
    "]\n",
    "\n",
    "# Get the list of (18, 2) arrays from the DataFrame column we created\n",
    "pose_sequence = df['parsed_poses'].tolist()"
   ]
  },
  {
   "cell_type": "code",
   "execution_count": null,
   "id": "80d23fd9",
   "metadata": {},
   "outputs": [
    {
     "name": "stderr",
     "output_type": "stream",
     "text": [
      "Animation size has reached 20979214 bytes, exceeding the limit of 20971520.0. If you're sure you want a larger animation embedded, set the animation.embed_limit rc parameter to a larger value (in MB). This and further frames will be dropped.\n"
     ]
    }
   ],
   "source": [
    "# --- Set up the plot ---\n",
    "fig, ax = plt.subplots()\n",
    "\n",
    "# --- Define the function that will update the plot for each frame ---\n",
    "def update(frame_index):\n",
    "    ax.clear() # Clear the previous frame's drawing\n",
    "\n",
    "    keypoints = pose_sequence[frame_index]\n",
    "    \n",
    "    # Get all x and y coordinates to set the plot limits dynamically\n",
    "    # We only consider points that were actually detected (not 0,0)\n",
    "    x_coords = keypoints[:, 0][keypoints[:, 0] != 0]\n",
    "    y_coords = keypoints[:, 1][keypoints[:, 1] != 0]\n",
    "\n",
    "    if len(x_coords) > 0 and len(y_coords) > 0:\n",
    "        # Plot the keypoints as dots\n",
    "        ax.scatter(x_coords, y_coords, s=10, c='red') # s is size, c is color\n",
    "\n",
    "        # Plot the limbs as lines\n",
    "        for i, j in YOUR_SKELETON_CONNECTIONS:\n",
    "            start_point = keypoints[i]\n",
    "            end_point = keypoints[j]\n",
    "            # Only draw if both points were detected\n",
    "            if (start_point.any() and end_point.any()):\n",
    "                 ax.plot([start_point[0], end_point[0]], [start_point[1], end_point[1]], 'b-')\n",
    "\n",
    "        # Set the plot limits with a bit of padding\n",
    "        ax.set_xlim(np.min(x_coords) - 20, np.max(x_coords) + 20)\n",
    "        ax.set_ylim(np.min(y_coords) - 20, np.max(y_coords) + 20)\n",
    "        ax.invert_yaxis() # Invert y-axis because image coordinates start from top-left\n",
    "\n",
    "    ax.set_title(f\"Frame {frame_index}\")\n",
    "    ax.set_aspect('equal', adjustable='box')\n",
    "\n",
    "\n",
    "# --- Create the animation ---\n",
    "# The 'frames' argument tells FuncAnimation how many times to call the update function\n",
    "ani = FuncAnimation(fig, update, frames=len(pose_sequence), interval=100) # interval is ms between frames\n",
    "\n",
    "# --- Display the animation in the notebook ---\n",
    "# This might take a few moments to render\n",
    "plt.close(fig) # Prevent a static image from displaying\n",
    "HTML(ani.to_jshtml())"
   ]
  },
  {
   "cell_type": "code",
   "execution_count": 9,
   "id": "62e61610",
   "metadata": {},
   "outputs": [
    {
     "name": "stdout",
     "output_type": "stream",
     "text": [
      "Processing: C:\\Users\\asus\\Desktop\\Ain-Guard Assesment\\csvs_Skeleton_poses_normal_potential_shoplifter\\Potential_shoplifter\\looking_right_left-hide_object\\cam01_5m_state_looking_right_left-hide_object_2023_2_16_17_59_14_000.csv\n",
      "-> Saved: output_videos\\Potential_shoplifter\\looking_right_left-hide_object\\cam01_5m_state_looking_right_left-hide_object_2023_2_16_17_59_14_000.mp4\n",
      "Processing: C:\\Users\\asus\\Desktop\\Ain-Guard Assesment\\csvs_Skeleton_poses_normal_potential_shoplifter\\Potential_shoplifter\\looking_right_left-hide_object\\cam02_3m_state_looking_right_left-hide_object_2023_2_16_17_59_14_000.csv\n",
      "-> Saved: output_videos\\Potential_shoplifter\\looking_right_left-hide_object\\cam02_3m_state_looking_right_left-hide_object_2023_2_16_17_59_14_000.mp4\n",
      "Processing: C:\\Users\\asus\\Desktop\\Ain-Guard Assesment\\csvs_Skeleton_poses_normal_potential_shoplifter\\Normal\\Picking_up_objects\\cam01_5m_picking_up_object_2023_2_16_17_22_17_000.csv\n",
      "-> Saved: output_videos\\Normal\\Picking_up_objects\\cam01_5m_picking_up_object_2023_2_16_17_22_17_000.mp4\n",
      "Processing: C:\\Users\\asus\\Desktop\\Ain-Guard Assesment\\csvs_Skeleton_poses_normal_potential_shoplifter\\Normal\\Picking_up_objects\\cam02_3m_picking_up_object_2023_2_16_17_22_17_001.csv\n",
      "-> Saved: output_videos\\Normal\\Picking_up_objects\\cam02_3m_picking_up_object_2023_2_16_17_22_17_001.mp4\n",
      "Processing: C:\\Users\\asus\\Desktop\\Ain-Guard Assesment\\csvs_Skeleton_poses_normal_potential_shoplifter\\Normal\\put_hand_in_pocket\\cam01_5m_state_put_hand_in_pocket_2023_2_16_19_9_16_000.csv\n",
      "-> Saved: output_videos\\Normal\\put_hand_in_pocket\\cam01_5m_state_put_hand_in_pocket_2023_2_16_19_9_16_000.mp4\n",
      "Processing: C:\\Users\\asus\\Desktop\\Ain-Guard Assesment\\csvs_Skeleton_poses_normal_potential_shoplifter\\Normal\\put_hand_in_pocket\\cam02_3m_state_put_hand_in_pocket_2023_2_16_19_9_16_000.csv\n",
      "-> Saved: output_videos\\Normal\\put_hand_in_pocket\\cam02_3m_state_put_hand_in_pocket_2023_2_16_19_9_16_000.mp4\n",
      "Processing: C:\\Users\\asus\\Desktop\\Ain-Guard Assesment\\csvs_Skeleton_poses_normal_potential_shoplifter\\Normal\\put_hand_in_pocket2\\cam01_5m_state_put_hand_in_pocket_2023_2_16_18_46_39_000.csv\n",
      "-> Saved: output_videos\\Normal\\put_hand_in_pocket2\\cam01_5m_state_put_hand_in_pocket_2023_2_16_18_46_39_000.mp4\n",
      "Processing: C:\\Users\\asus\\Desktop\\Ain-Guard Assesment\\csvs_Skeleton_poses_normal_potential_shoplifter\\Normal\\put_hand_in_pocket2\\cam02_3m_state_put_hand_in_pocket_2023_2_16_18_46_39_000.csv\n",
      "-> Saved: output_videos\\Normal\\put_hand_in_pocket2\\cam02_3m_state_put_hand_in_pocket_2023_2_16_18_46_39_000.mp4\n",
      "\n",
      "--- All selected videos have been generated! ---\n"
     ]
    }
   ],
   "source": [
    "import pandas as pd\n",
    "import numpy as np\n",
    "import cv2\n",
    "import json\n",
    "import os\n",
    "\n",
    "# --- Your final, polished visualization function ---\n",
    "def save_sequence_as_video_final(pose_sequence: list, connections: list, output_path: str, fps: float = 15.0):\n",
    "    \"\"\"\n",
    "    Takes a sequence of poses and saves it as a polished MP4 video file.\n",
    "    FINAL VERSION: White background, smaller points, thinner lines.\n",
    "    \"\"\"\n",
    "    if not pose_sequence:\n",
    "        print(f\"Warning: Empty pose sequence for {output_path}. Skipping.\")\n",
    "        return\n",
    "\n",
    "    # Determine video dimensions dynamically\n",
    "    all_x = [kp[0] for pose in pose_sequence for kp in pose if kp[0] != 0]\n",
    "    all_y = [kp[1] for pose in pose_sequence for kp in pose if kp[1] != 0]\n",
    "    \n",
    "    if not all_x or not all_y:\n",
    "        print(f\"Warning: No valid keypoints in sequence for {output_path}. Skipping.\")\n",
    "        return\n",
    "        \n",
    "    width, height = int(np.max(all_x)) + 50, int(np.max(all_y)) + 50\n",
    "    \n",
    "    # Ensure output directory exists\n",
    "    output_dir = os.path.dirname(output_path)\n",
    "    if output_dir: os.makedirs(output_dir, exist_ok=True)\n",
    "\n",
    "    # Setup video writer\n",
    "    fourcc = cv2.VideoWriter_fourcc(*'mp4v')\n",
    "    video_writer = cv2.VideoWriter(output_path, fourcc, fps, (width, height))\n",
    "    \n",
    "    for keypoints in pose_sequence:\n",
    "        frame = np.full((height, width, 3), 255, dtype=np.uint8)\n",
    "        limb_thickness, point_radius = 2, 3\n",
    "        \n",
    "        for i, j in connections: # Draw limbs\n",
    "            start_point, end_point = keypoints[i], keypoints[j]\n",
    "            if start_point.any() and end_point.any():\n",
    "                cv2.line(frame, (int(start_point[0]), int(start_point[1])), (int(end_point[0]), int(end_point[1])), (255, 0, 0), limb_thickness)\n",
    "\n",
    "        for x, y in keypoints: # Draw points\n",
    "            if x != 0 and y != 0:\n",
    "                cv2.circle(frame, (int(x), int(y)), point_radius, (0, 0, 255), -1)\n",
    "                \n",
    "        video_writer.write(frame)\n",
    "        \n",
    "    video_writer.release()\n",
    "    print(f\"-> Saved: {output_path}\")\n",
    "\n",
    "def parse_poses_from_string(poses_str: str) -> np.ndarray:\n",
    "    try:\n",
    "        pose_list = json.loads(poses_str)\n",
    "        return np.array(pose_list).reshape(18, 2)\n",
    "    except (json.JSONDecodeError, ValueError):\n",
    "        return np.zeros((18, 2))\n",
    "\n",
    "# --- Main Script with CORRECTED File Paths ---\n",
    "\n",
    "# Define the skeleton connections\n",
    "YOUR_SKELETON_CONNECTIONS = [\n",
    "    [0, 1], [1, 2], [2, 3], [3, 4], [1, 5], [5, 6], [6, 7],\n",
    "    [1, 14], [14, 8], [14, 11], [8, 9], [9, 10], [11, 12], [12, 13]\n",
    "]\n",
    "\n",
    "# --- Corrected list of files to visualize ---\n",
    "files_to_visualize = [\n",
    "    # --- POTENTIAL SHOPLIFTER ---\n",
    "    r'C:\\Users\\asus\\Desktop\\Ain-Guard Assesment\\csvs_Skeleton_poses_normal_potential_shoplifter\\Potential_shoplifter\\looking_right_left-hide_object\\cam01_5m_state_looking_right_left-hide_object_2023_2_16_17_59_14_000.csv',\n",
    "    r'C:\\Users\\asus\\Desktop\\Ain-Guard Assesment\\csvs_Skeleton_poses_normal_potential_shoplifter\\Potential_shoplifter\\looking_right_left-hide_object\\cam02_3m_state_looking_right_left-hide_object_2023_2_16_17_59_14_000.csv',\n",
    "    \n",
    "    # --- NORMAL ---\n",
    "    r'C:\\Users\\asus\\Desktop\\Ain-Guard Assesment\\csvs_Skeleton_poses_normal_potential_shoplifter\\Normal\\Picking_up_objects\\cam01_5m_picking_up_object_2023_2_16_17_22_17_000.csv',\n",
    "    r'C:\\Users\\asus\\Desktop\\Ain-Guard Assesment\\csvs_Skeleton_poses_normal_potential_shoplifter\\Normal\\Picking_up_objects\\cam02_3m_picking_up_object_2023_2_16_17_22_17_001.csv',\n",
    "    r'C:\\Users\\asus\\Desktop\\Ain-Guard Assesment\\csvs_Skeleton_poses_normal_potential_shoplifter\\Normal\\put_hand_in_pocket\\cam01_5m_state_put_hand_in_pocket_2023_2_16_19_9_16_000.csv',\n",
    "    r'C:\\Users\\asus\\Desktop\\Ain-Guard Assesment\\csvs_Skeleton_poses_normal_potential_shoplifter\\Normal\\put_hand_in_pocket\\cam02_3m_state_put_hand_in_pocket_2023_2_16_19_9_16_000.csv',\n",
    "    r'C:\\Users\\asus\\Desktop\\Ain-Guard Assesment\\csvs_Skeleton_poses_normal_potential_shoplifter\\Normal\\put_hand_in_pocket2\\cam01_5m_state_put_hand_in_pocket_2023_2_16_18_46_39_000.csv',\n",
    "    r'C:\\Users\\asus\\Desktop\\Ain-Guard Assesment\\csvs_Skeleton_poses_normal_potential_shoplifter\\Normal\\put_hand_in_pocket2\\cam02_3m_state_put_hand_in_pocket_2023_2_16_18_46_39_000.csv'\n",
    "]\n",
    "\n",
    "# The base directory where all videos will be saved\n",
    "base_output_dir = 'output_videos'\n",
    "\n",
    "for csv_path in files_to_visualize:\n",
    "    # A small adjustment to make the output path cleaner\n",
    "    # It will remove the long prefix from your desktop\n",
    "    path_parts = csv_path.split(os.sep)\n",
    "    # We'll take the last 3 parts: Normal/Shoplifter -> Action -> Filename\n",
    "    simple_path = os.path.join(*path_parts[-3:])\n",
    "    output_video_path = os.path.join(base_output_dir, simple_path.replace('.csv', '.mp4'))\n",
    "    \n",
    "    # --- The rest of the loop is the same ---\n",
    "    if not os.path.exists(csv_path):\n",
    "        print(f\"File not found: {csv_path}. Skipping.\")\n",
    "        continue\n",
    "        \n",
    "    print(f\"Processing: {csv_path}\")\n",
    "    \n",
    "    # Read and parse the data\n",
    "    df = pd.read_csv(csv_path)\n",
    "    pose_sequence = df['POSES'].apply(parse_poses_from_string).tolist()\n",
    "    \n",
    "    # Generate and save the video\n",
    "    save_sequence_as_video_final(pose_sequence, YOUR_SKELETON_CONNECTIONS, output_video_path)\n",
    "\n",
    "print(\"\\n--- All selected videos have been generated! ---\")"
   ]
  },
  {
   "cell_type": "markdown",
   "id": "089f1058",
   "metadata": {},
   "source": []
  },
  {
   "cell_type": "code",
   "execution_count": null,
   "id": "0eb18c7c",
   "metadata": {},
   "outputs": [],
   "source": []
  }
 ],
 "metadata": {
  "kernelspec": {
   "display_name": "Python 3",
   "language": "python",
   "name": "python3"
  },
  "language_info": {
   "codemirror_mode": {
    "name": "ipython",
    "version": 3
   },
   "file_extension": ".py",
   "mimetype": "text/x-python",
   "name": "python",
   "nbconvert_exporter": "python",
   "pygments_lexer": "ipython3",
   "version": "3.10.0"
  }
 },
 "nbformat": 4,
 "nbformat_minor": 5
}
